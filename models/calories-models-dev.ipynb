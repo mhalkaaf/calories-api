{
 "cells": [
  {
   "cell_type": "code",
   "execution_count": 1,
   "id": "c219ca93-48d3-4f63-b746-96fbe177791e",
   "metadata": {
    "scrolled": true
   },
   "outputs": [
    {
     "name": "stdout",
     "output_type": "stream",
     "text": [
      "Requirement already satisfied: tensorflow in /home/c013d4ky0525/project/volume/lib/python3.8/site-packages (2.13.1)\n",
      "Requirement already satisfied: absl-py>=1.0.0 in /home/c013d4ky0525/project/volume/lib/python3.8/site-packages (from tensorflow) (2.1.0)\n",
      "Requirement already satisfied: astunparse>=1.6.0 in /home/c013d4ky0525/project/volume/lib/python3.8/site-packages (from tensorflow) (1.6.3)\n",
      "Requirement already satisfied: flatbuffers>=23.1.21 in /home/c013d4ky0525/project/volume/lib/python3.8/site-packages (from tensorflow) (24.3.25)\n",
      "Requirement already satisfied: gast<=0.4.0,>=0.2.1 in /home/c013d4ky0525/project/volume/lib/python3.8/site-packages (from tensorflow) (0.4.0)\n",
      "Requirement already satisfied: google-pasta>=0.1.1 in /home/c013d4ky0525/project/volume/lib/python3.8/site-packages (from tensorflow) (0.2.0)\n",
      "Requirement already satisfied: grpcio<2.0,>=1.24.3 in /home/c013d4ky0525/project/volume/lib/python3.8/site-packages (from tensorflow) (1.64.0)\n",
      "Requirement already satisfied: h5py>=2.9.0 in /home/c013d4ky0525/project/volume/lib/python3.8/site-packages (from tensorflow) (3.11.0)\n",
      "Requirement already satisfied: keras<2.14,>=2.13.1 in /home/c013d4ky0525/project/volume/lib/python3.8/site-packages (from tensorflow) (2.13.1)\n",
      "Requirement already satisfied: libclang>=13.0.0 in /home/c013d4ky0525/project/volume/lib/python3.8/site-packages (from tensorflow) (18.1.1)\n",
      "Requirement already satisfied: numpy<=1.24.3,>=1.22 in /home/c013d4ky0525/project/volume/lib/python3.8/site-packages (from tensorflow) (1.24.3)\n",
      "Requirement already satisfied: opt-einsum>=2.3.2 in /home/c013d4ky0525/project/volume/lib/python3.8/site-packages (from tensorflow) (3.3.0)\n",
      "Requirement already satisfied: packaging in /home/c013d4ky0525/project/volume/lib/python3.8/site-packages (from tensorflow) (24.0)\n",
      "Requirement already satisfied: protobuf!=4.21.0,!=4.21.1,!=4.21.2,!=4.21.3,!=4.21.4,!=4.21.5,<5.0.0dev,>=3.20.3 in /home/c013d4ky0525/project/volume/lib/python3.8/site-packages (from tensorflow) (4.25.3)\n",
      "Requirement already satisfied: setuptools in /home/c013d4ky0525/project/volume/lib/python3.8/site-packages (from tensorflow) (69.5.1)\n",
      "Requirement already satisfied: six>=1.12.0 in /home/c013d4ky0525/project/volume/lib/python3.8/site-packages (from tensorflow) (1.16.0)\n",
      "Requirement already satisfied: tensorboard<2.14,>=2.13 in /home/c013d4ky0525/project/volume/lib/python3.8/site-packages (from tensorflow) (2.13.0)\n",
      "Requirement already satisfied: tensorflow-estimator<2.14,>=2.13.0 in /home/c013d4ky0525/project/volume/lib/python3.8/site-packages (from tensorflow) (2.13.0)\n",
      "Requirement already satisfied: termcolor>=1.1.0 in /home/c013d4ky0525/project/volume/lib/python3.8/site-packages (from tensorflow) (2.4.0)\n",
      "Requirement already satisfied: typing-extensions<4.6.0,>=3.6.6 in /home/c013d4ky0525/project/volume/lib/python3.8/site-packages (from tensorflow) (4.5.0)\n",
      "Requirement already satisfied: wrapt>=1.11.0 in /home/c013d4ky0525/project/volume/lib/python3.8/site-packages (from tensorflow) (1.16.0)\n",
      "Requirement already satisfied: tensorflow-io-gcs-filesystem>=0.23.1 in /home/c013d4ky0525/project/volume/lib/python3.8/site-packages (from tensorflow) (0.34.0)\n",
      "Requirement already satisfied: wheel<1.0,>=0.23.0 in /home/c013d4ky0525/project/volume/lib/python3.8/site-packages (from astunparse>=1.6.0->tensorflow) (0.43.0)\n",
      "Requirement already satisfied: google-auth<3,>=1.6.3 in /home/c013d4ky0525/project/volume/lib/python3.8/site-packages (from tensorboard<2.14,>=2.13->tensorflow) (2.29.0)\n",
      "Requirement already satisfied: google-auth-oauthlib<1.1,>=0.5 in /home/c013d4ky0525/project/volume/lib/python3.8/site-packages (from tensorboard<2.14,>=2.13->tensorflow) (1.0.0)\n",
      "Requirement already satisfied: markdown>=2.6.8 in /home/c013d4ky0525/project/volume/lib/python3.8/site-packages (from tensorboard<2.14,>=2.13->tensorflow) (3.6)\n",
      "Requirement already satisfied: requests<3,>=2.21.0 in /home/c013d4ky0525/project/volume/lib/python3.8/site-packages (from tensorboard<2.14,>=2.13->tensorflow) (2.32.2)\n",
      "Requirement already satisfied: tensorboard-data-server<0.8.0,>=0.7.0 in /home/c013d4ky0525/project/volume/lib/python3.8/site-packages (from tensorboard<2.14,>=2.13->tensorflow) (0.7.2)\n",
      "Requirement already satisfied: werkzeug>=1.0.1 in /home/c013d4ky0525/project/volume/lib/python3.8/site-packages (from tensorboard<2.14,>=2.13->tensorflow) (3.0.3)\n",
      "Requirement already satisfied: cachetools<6.0,>=2.0.0 in /home/c013d4ky0525/project/volume/lib/python3.8/site-packages (from google-auth<3,>=1.6.3->tensorboard<2.14,>=2.13->tensorflow) (5.3.3)\n",
      "Requirement already satisfied: pyasn1-modules>=0.2.1 in /home/c013d4ky0525/project/volume/lib/python3.8/site-packages (from google-auth<3,>=1.6.3->tensorboard<2.14,>=2.13->tensorflow) (0.4.0)\n",
      "Requirement already satisfied: rsa<5,>=3.1.4 in /home/c013d4ky0525/project/volume/lib/python3.8/site-packages (from google-auth<3,>=1.6.3->tensorboard<2.14,>=2.13->tensorflow) (4.9)\n",
      "Requirement already satisfied: requests-oauthlib>=0.7.0 in /home/c013d4ky0525/project/volume/lib/python3.8/site-packages (from google-auth-oauthlib<1.1,>=0.5->tensorboard<2.14,>=2.13->tensorflow) (2.0.0)\n",
      "Requirement already satisfied: importlib-metadata>=4.4 in /home/c013d4ky0525/project/volume/lib/python3.8/site-packages (from markdown>=2.6.8->tensorboard<2.14,>=2.13->tensorflow) (7.1.0)\n",
      "Requirement already satisfied: charset-normalizer<4,>=2 in /home/c013d4ky0525/project/volume/lib/python3.8/site-packages (from requests<3,>=2.21.0->tensorboard<2.14,>=2.13->tensorflow) (3.3.2)\n",
      "Requirement already satisfied: idna<4,>=2.5 in /home/c013d4ky0525/project/volume/lib/python3.8/site-packages (from requests<3,>=2.21.0->tensorboard<2.14,>=2.13->tensorflow) (3.7)\n",
      "Requirement already satisfied: urllib3<3,>=1.21.1 in /home/c013d4ky0525/project/volume/lib/python3.8/site-packages (from requests<3,>=2.21.0->tensorboard<2.14,>=2.13->tensorflow) (2.2.1)\n",
      "Requirement already satisfied: certifi>=2017.4.17 in /home/c013d4ky0525/project/volume/lib/python3.8/site-packages (from requests<3,>=2.21.0->tensorboard<2.14,>=2.13->tensorflow) (2024.2.2)\n",
      "Requirement already satisfied: MarkupSafe>=2.1.1 in /home/c013d4ky0525/project/volume/lib/python3.8/site-packages (from werkzeug>=1.0.1->tensorboard<2.14,>=2.13->tensorflow) (2.1.5)\n",
      "Requirement already satisfied: zipp>=0.5 in /home/c013d4ky0525/project/volume/lib/python3.8/site-packages (from importlib-metadata>=4.4->markdown>=2.6.8->tensorboard<2.14,>=2.13->tensorflow) (3.19.0)\n",
      "Requirement already satisfied: pyasn1<0.7.0,>=0.4.6 in /home/c013d4ky0525/project/volume/lib/python3.8/site-packages (from pyasn1-modules>=0.2.1->google-auth<3,>=1.6.3->tensorboard<2.14,>=2.13->tensorflow) (0.6.0)\n",
      "Requirement already satisfied: oauthlib>=3.0.0 in /home/c013d4ky0525/project/volume/lib/python3.8/site-packages (from requests-oauthlib>=0.7.0->google-auth-oauthlib<1.1,>=0.5->tensorboard<2.14,>=2.13->tensorflow) (3.2.2)\n",
      "Note: you may need to restart the kernel to use updated packages.\n"
     ]
    }
   ],
   "source": [
    "pip install tensorflow"
   ]
  },
  {
   "cell_type": "code",
   "execution_count": 2,
   "id": "45b48ada-aa03-47e1-af62-9f4f421d7b42",
   "metadata": {},
   "outputs": [
    {
     "name": "stdout",
     "output_type": "stream",
     "text": [
      "Requirement already satisfied: Pillow in /home/c013d4ky0525/project/volume/lib/python3.8/site-packages (10.3.0)\n",
      "Note: you may need to restart the kernel to use updated packages.\n"
     ]
    }
   ],
   "source": [
    "pip install Pillow"
   ]
  },
  {
   "cell_type": "code",
   "execution_count": 3,
   "id": "f8b94003-1b05-4a10-a96c-5f52962c99c9",
   "metadata": {},
   "outputs": [
    {
     "name": "stdout",
     "output_type": "stream",
     "text": [
      "Requirement already satisfied: scipy in /home/c013d4ky0525/project/volume/lib/python3.8/site-packages (1.10.1)\n",
      "Requirement already satisfied: numpy<1.27.0,>=1.19.5 in /home/c013d4ky0525/project/volume/lib/python3.8/site-packages (from scipy) (1.24.3)\n"
     ]
    }
   ],
   "source": [
    "!pip install scipy"
   ]
  },
  {
   "cell_type": "code",
   "execution_count": 4,
   "id": "bdd5e209-657b-4410-a76d-299a5d420a55",
   "metadata": {},
   "outputs": [
    {
     "name": "stderr",
     "output_type": "stream",
     "text": [
      "2024-05-28 06:37:08.332160: I tensorflow/tsl/cuda/cudart_stub.cc:28] Could not find cuda drivers on your machine, GPU will not be used.\n",
      "2024-05-28 06:37:08.399987: I tensorflow/tsl/cuda/cudart_stub.cc:28] Could not find cuda drivers on your machine, GPU will not be used.\n",
      "2024-05-28 06:37:08.401673: I tensorflow/core/platform/cpu_feature_guard.cc:182] This TensorFlow binary is optimized to use available CPU instructions in performance-critical operations.\n",
      "To enable the following instructions: AVX2 FMA, in other operations, rebuild TensorFlow with the appropriate compiler flags.\n",
      "2024-05-28 06:37:09.618077: W tensorflow/compiler/tf2tensorrt/utils/py_utils.cc:38] TF-TRT Warning: Could not find TensorRT\n"
     ]
    }
   ],
   "source": [
    "import os\n",
    "import zipfile\n",
    "import random\n",
    "import shutil\n",
    "import tensorflow as tf\n",
    "from tensorflow.keras.preprocessing.image import ImageDataGenerator\n",
    "from shutil import copyfile\n",
    "import matplotlib.pyplot as plt\n",
    "import pandas as pd\n",
    "from PIL import Image\n",
    "import scipy\n"
   ]
  },
  {
   "cell_type": "code",
   "execution_count": 5,
   "id": "a270d25c-538d-4ded-b53d-abe2cdc21278",
   "metadata": {},
   "outputs": [],
   "source": [
    "# Tentukan jalur sumber dan tujuan\n",
    "source_path = './'  # Ganti dengan jalur yang benar"
   ]
  },
  {
   "cell_type": "code",
   "execution_count": 6,
   "id": "2391fad6-2c40-4cbb-9415-09c594714a0c",
   "metadata": {},
   "outputs": [],
   "source": [
    "root_dir = os.path.expanduser('~/food') #BISA DIATUR SENDIRI BUAT LOKASI DARI FILE TRAINING DAN VALIDATION#\n",
    "\n",
    "# Empty directory to prevent FileExistsError is the function is run several times\n",
    "if os.path.exists(root_dir):\n",
    "  shutil.rmtree(root_dir)\n",
    "\n",
    "def create_train_val_dirs(root_path):\n",
    "\n",
    "  #Creates directories for the train and test sets\n",
    "\n",
    "  os.makedirs(root_path, exist_ok=True)\n",
    "  train_dir = os.path.join(root_path, 'training')\n",
    "  val_dir = os.path.join(root_path, 'validation')\n",
    "  test_dir = os.path.join(root_path, 'testing')\n",
    "\n",
    "  items =  ['Apple', 'Banana','Fried_Chicken','Beef_Rendang','Egg','Doughnut']\n",
    "  for x in items:\n",
    "    os.makedirs(os.path.join(train_dir, x), exist_ok=True)\n",
    "    os.makedirs(os.path.join(val_dir, x), exist_ok=True)\n",
    "    os.makedirs(os.path.join(test_dir, x), exist_ok=True)\n",
    "\n",
    "try:\n",
    "  create_train_val_dirs(root_path=root_dir)\n",
    "except FileExistsError:\n",
    "  print(\"You should not be seeing this since the upper directory is removed beforehand\")"
   ]
  },
  {
   "cell_type": "code",
   "execution_count": 7,
   "id": "a80511c7-e951-4ed3-9f07-e6c681ca58c8",
   "metadata": {},
   "outputs": [],
   "source": [
    "def split_data(SOURCE_DIR, TRAINING_DIR, VALIDATION_DIR, TESTING_DIR, SPLIT_SIZE, SPLIT_SIZE_TEST):\n",
    "  file_list = [os.path.join(SOURCE_DIR, file) for file in os.listdir(SOURCE_DIR) if os.path.getsize(os.path.join(SOURCE_DIR, file)) > 0]\n",
    "\n",
    "  train_num_items = int(round(len(file_list) * SPLIT_SIZE))\n",
    "  train_list = random.sample(file_list, train_num_items)\n",
    "  remain_list = list(set(file_list) - set(train_list))\n",
    "  test_num_items = int(round(len(remain_list) * SPLIT_SIZE_TEST/(1-SPLIT_SIZE)))\n",
    "  test_list = random.sample(remain_list, test_num_items)\n",
    "  val_list = list(set(remain_list) - set(test_list))\n",
    "\n",
    "\n",
    "  for f in train_list:\n",
    "    copyfile(f, os.path.join(TRAINING_DIR, os.path.basename(f)))\n",
    "  for f in test_list:\n",
    "    copyfile(f, os.path.join(TESTING_DIR, os.path.basename(f)))\n",
    "  for f in val_list:\n",
    "    copyfile(f, os.path.join(VALIDATION_DIR, os.path.basename(f)))\n"
   ]
  },
  {
   "cell_type": "code",
   "execution_count": 8,
   "id": "564c878a-130a-4162-b39c-330267fff481",
   "metadata": {},
   "outputs": [
    {
     "name": "stdout",
     "output_type": "stream",
     "text": [
      "\n",
      "\n",
      "Original Fried_Chicken's directory has 100 images\n",
      "There are 80 images of Fried_Chicken for training\n",
      "There are 10 images of Fried_Chicken for validation\n",
      "There are 10 images of Fried_Chicken for testing\n",
      "\n",
      "\n",
      "Original Beef_Rendang's directory has 100 images\n",
      "There are 80 images of Beef_Rendang for training\n",
      "There are 10 images of Beef_Rendang for validation\n",
      "There are 10 images of Beef_Rendang for testing\n",
      "\n",
      "\n",
      "Original Apple's directory has 100 images\n",
      "There are 80 images of Apple for training\n",
      "There are 10 images of Apple for validation\n",
      "There are 10 images of Apple for testing\n",
      "\n",
      "\n",
      "Original Banana's directory has 100 images\n",
      "There are 80 images of Banana for training\n",
      "There are 10 images of Banana for validation\n",
      "There are 10 images of Banana for testing\n",
      "\n",
      "\n",
      "Original Egg's directory has 100 images\n",
      "There are 80 images of Egg for training\n",
      "There are 10 images of Egg for validation\n",
      "There are 10 images of Egg for testing\n",
      "\n",
      "\n",
      "Original Doughnut's directory has 100 images\n",
      "There are 80 images of Doughnut for training\n",
      "There are 10 images of Doughnut for validation\n",
      "There are 10 images of Doughnut for testing\n"
     ]
    }
   ],
   "source": [
    "TRAINING_DIR = os.path.join(root_dir, \"training\")\n",
    "VALIDATION_DIR = os.path.join(root_dir, \"validation\")\n",
    "TESTING_DIR = os.path.join(root_dir, \"testing\")\n",
    "items =  ['Fried_Chicken','Beef_Rendang','Apple','Banana','Egg','Doughnut']\n",
    "\n",
    "for food in items:\n",
    "    SOURCE_DIR_FOOD = os.path.join(source_path, food)\n",
    "    TRAINING_FOOD_DIR = os.path.join(TRAINING_DIR, food)\n",
    "    VALIDATION_FOOD_DIR = os.path.join(VALIDATION_DIR, food)\n",
    "    TESTING_FOOD_DIR = os.path.join(TESTING_DIR, food)\n",
    "\n",
    "    for dir_path in [TRAINING_FOOD_DIR, VALIDATION_FOOD_DIR, TESTING_FOOD_DIR]:\n",
    "        for file in os.scandir(dir_path):\n",
    "            os.remove(file.path)\n",
    "\n",
    "    # Define proportion of images used for training\n",
    "    split_data(SOURCE_DIR_FOOD, TRAINING_FOOD_DIR, VALIDATION_FOOD_DIR, TESTING_FOOD_DIR, 0.8, 0.1)\n",
    "\n",
    "    print(f\"\\n\\nOriginal {food}'s directory has {len(os.listdir(SOURCE_DIR_FOOD))} images\")\n",
    "\n",
    "\n",
    "    # Training and validation splits\n",
    "    print(f\"There are {len(os.listdir(TRAINING_FOOD_DIR))} images of {food} for training\")\n",
    "    print(f\"There are {len(os.listdir(VALIDATION_FOOD_DIR))} images of {food} for validation\")\n",
    "    print(f\"There are {len(os.listdir(TESTING_FOOD_DIR))} images of {food} for testing\")"
   ]
  },
  {
   "cell_type": "code",
   "execution_count": 9,
   "id": "ca28798b-ff4c-4d16-a6c9-5e8b8dee4887",
   "metadata": {},
   "outputs": [
    {
     "name": "stdout",
     "output_type": "stream",
     "text": [
      "Found 480 images belonging to 6 classes.\n",
      "Found 60 images belonging to 6 classes.\n",
      "Found 60 images belonging to 6 classes.\n"
     ]
    }
   ],
   "source": [
    "# Define the desired image size\n",
    "target_size = (128, 128)  #ukuran foto yang ditraining dari dataset untuk menjadi model.\n",
    "\n",
    "# nge training dataset menjadi categorical\n",
    "# akan ditraining dr 5 foto misalkan menjadi 15 foto, jadi fotonya ditraining dari angle yg berbeda agar lebih akurat.\n",
    "# Load the images from the train and test directories\n",
    "train_datagen = ImageDataGenerator(\n",
    "    preprocessing_function=tf.keras.applications.mobilenet_v2.preprocess_input,\n",
    "    rotation_range=10, width_shift_range=0.2, height_shift_range=0.2,\n",
    "    shear_range=0.1, zoom_range=0.3, horizontal_flip=True, fill_mode='nearest'\n",
    ")\n",
    "train_generator = train_datagen.flow_from_directory(\n",
    "    TRAINING_DIR,\n",
    "    target_size=target_size,\n",
    "    batch_size=32,\n",
    "    class_mode='categorical'\n",
    ")\n",
    "\n",
    "validation_datagen = ImageDataGenerator(\n",
    "    preprocessing_function=tf.keras.applications.mobilenet_v2.preprocess_input\n",
    ")\n",
    "validation_generator = validation_datagen.flow_from_directory(\n",
    "    VALIDATION_DIR,\n",
    "    target_size=target_size,\n",
    "    batch_size=32,\n",
    "    class_mode='categorical'\n",
    ")\n",
    "\n",
    "testing_datagen = ImageDataGenerator(\n",
    "    preprocessing_function=tf.keras.applications.mobilenet_v2.preprocess_input\n",
    ")\n",
    "testing_generator = testing_datagen.flow_from_directory(\n",
    "    TESTING_DIR,\n",
    "    target_size=target_size,\n",
    "    batch_size=32,\n",
    "    class_mode='categorical'\n",
    ")"
   ]
  },
  {
   "cell_type": "code",
   "execution_count": 10,
   "id": "606a3b8e-465f-470a-b5f8-c68c9d11e5af",
   "metadata": {},
   "outputs": [],
   "source": [
    "base_model = tf.keras.applications.MobileNetV2(input_shape=target_size + (3,), include_top=False, weights='imagenet')\n",
    "base_model.trainable = False\n",
    "\n",
    "inputs = tf.keras.Input(shape=target_size + (3,))\n",
    "x = base_model(inputs, training=False)\n",
    "x = tf.keras.layers.GlobalAveragePooling2D()(x)\n",
    "x = tf.keras.layers.Dropout(0.2)(x)\n",
    "outputs = tf.keras.layers.Dense(6, activation='softmax')(x)\n",
    "\n",
    "model = tf.keras.Model(inputs, outputs)"
   ]
  },
  {
   "cell_type": "code",
   "execution_count": 11,
   "id": "a1c587fa-9a8e-438e-9ba3-8abccf2e9dec",
   "metadata": {},
   "outputs": [
    {
     "name": "stdout",
     "output_type": "stream",
     "text": [
      "Model: \"model\"\n",
      "_________________________________________________________________\n",
      " Layer (type)                Output Shape              Param #   \n",
      "=================================================================\n",
      " input_2 (InputLayer)        [(None, 128, 128, 3)]     0         \n",
      "                                                                 \n",
      " mobilenetv2_1.00_128 (Func  (None, 4, 4, 1280)        2257984   \n",
      " tional)                                                         \n",
      "                                                                 \n",
      " global_average_pooling2d (  (None, 1280)              0         \n",
      " GlobalAveragePooling2D)                                         \n",
      "                                                                 \n",
      " dropout (Dropout)           (None, 1280)              0         \n",
      "                                                                 \n",
      " dense (Dense)               (None, 6)                 7686      \n",
      "                                                                 \n",
      "=================================================================\n",
      "Total params: 2265670 (8.64 MB)\n",
      "Trainable params: 7686 (30.02 KB)\n",
      "Non-trainable params: 2257984 (8.61 MB)\n",
      "_________________________________________________________________\n"
     ]
    }
   ],
   "source": [
    "model.summary()"
   ]
  },
  {
   "cell_type": "code",
   "execution_count": 12,
   "id": "443629fa-6829-4243-a011-9fb073427eb1",
   "metadata": {},
   "outputs": [],
   "source": [
    "model.compile(optimizer=tf.keras.optimizers.Adam(learning_rate=0.0001),\n",
    "              loss=tf.keras.losses.CategoricalCrossentropy(),\n",
    "              metrics=['accuracy'])"
   ]
  },
  {
   "cell_type": "code",
   "execution_count": 13,
   "id": "a2f90ab3-b12e-4d76-aa8c-2f40bc253eec",
   "metadata": {},
   "outputs": [
    {
     "name": "stdout",
     "output_type": "stream",
     "text": [
      "Epoch 1/100\n",
      "15/15 [==============================] - 13s 656ms/step - loss: 2.2983 - accuracy: 0.1979 - val_loss: 2.2757 - val_accuracy: 0.1667\n",
      "Epoch 2/100\n",
      "15/15 [==============================] - 8s 530ms/step - loss: 1.9682 - accuracy: 0.2542 - val_loss: 1.9801 - val_accuracy: 0.2167\n",
      "Epoch 3/100\n",
      "15/15 [==============================] - 9s 562ms/step - loss: 1.7194 - accuracy: 0.2958 - val_loss: 1.7524 - val_accuracy: 0.2667\n",
      "Epoch 4/100\n",
      "15/15 [==============================] - 9s 566ms/step - loss: 1.5112 - accuracy: 0.4000 - val_loss: 1.5833 - val_accuracy: 0.3167\n",
      "Epoch 5/100\n",
      "15/15 [==============================] - 14s 916ms/step - loss: 1.4086 - accuracy: 0.4458 - val_loss: 1.4316 - val_accuracy: 0.3167\n",
      "Epoch 6/100\n",
      "15/15 [==============================] - 8s 529ms/step - loss: 1.2788 - accuracy: 0.4917 - val_loss: 1.2919 - val_accuracy: 0.3833\n",
      "Epoch 7/100\n",
      "15/15 [==============================] - 9s 563ms/step - loss: 1.2056 - accuracy: 0.5312 - val_loss: 1.1777 - val_accuracy: 0.4500\n",
      "Epoch 8/100\n",
      "15/15 [==============================] - 8s 522ms/step - loss: 1.0464 - accuracy: 0.5875 - val_loss: 1.0700 - val_accuracy: 0.5000\n",
      "Epoch 9/100\n",
      "15/15 [==============================] - 9s 561ms/step - loss: 0.9619 - accuracy: 0.6333 - val_loss: 0.9794 - val_accuracy: 0.5500\n",
      "Epoch 10/100\n",
      "15/15 [==============================] - 8s 515ms/step - loss: 0.8781 - accuracy: 0.6396 - val_loss: 0.8928 - val_accuracy: 0.6167\n",
      "Epoch 11/100\n",
      "15/15 [==============================] - 8s 514ms/step - loss: 0.8137 - accuracy: 0.7167 - val_loss: 0.8185 - val_accuracy: 0.7667\n",
      "Epoch 12/100\n",
      "15/15 [==============================] - 9s 570ms/step - loss: 0.7426 - accuracy: 0.7354 - val_loss: 0.7636 - val_accuracy: 0.8000\n",
      "Epoch 13/100\n",
      "15/15 [==============================] - 11s 733ms/step - loss: 0.7369 - accuracy: 0.7375 - val_loss: 0.7141 - val_accuracy: 0.8000\n",
      "Epoch 14/100\n",
      "15/15 [==============================] - 8s 514ms/step - loss: 0.7151 - accuracy: 0.7312 - val_loss: 0.6595 - val_accuracy: 0.8000\n",
      "Epoch 15/100\n",
      "15/15 [==============================] - 9s 569ms/step - loss: 0.6390 - accuracy: 0.7792 - val_loss: 0.6177 - val_accuracy: 0.8167\n",
      "Epoch 16/100\n",
      "15/15 [==============================] - 8s 515ms/step - loss: 0.5911 - accuracy: 0.7917 - val_loss: 0.5767 - val_accuracy: 0.8667\n",
      "Epoch 17/100\n",
      "15/15 [==============================] - 14s 979ms/step - loss: 0.5949 - accuracy: 0.7958 - val_loss: 0.5463 - val_accuracy: 0.9000\n",
      "Epoch 18/100\n",
      "15/15 [==============================] - 14s 953ms/step - loss: 0.5831 - accuracy: 0.7854 - val_loss: 0.5168 - val_accuracy: 0.9000\n",
      "Epoch 19/100\n",
      "15/15 [==============================] - 16s 1s/step - loss: 0.5137 - accuracy: 0.8313 - val_loss: 0.4924 - val_accuracy: 0.9000\n",
      "Epoch 20/100\n",
      "15/15 [==============================] - 16s 1s/step - loss: 0.5100 - accuracy: 0.8354 - val_loss: 0.4635 - val_accuracy: 0.9167\n",
      "Epoch 21/100\n",
      "15/15 [==============================] - 16s 1s/step - loss: 0.4788 - accuracy: 0.8479 - val_loss: 0.4326 - val_accuracy: 0.9167\n",
      "Epoch 22/100\n",
      "15/15 [==============================] - 16s 1s/step - loss: 0.4533 - accuracy: 0.8458 - val_loss: 0.4166 - val_accuracy: 0.9167\n",
      "Epoch 23/100\n",
      "15/15 [==============================] - 9s 567ms/step - loss: 0.4328 - accuracy: 0.8771 - val_loss: 0.3966 - val_accuracy: 0.9167\n",
      "Epoch 24/100\n",
      "15/15 [==============================] - 11s 750ms/step - loss: 0.4188 - accuracy: 0.8687 - val_loss: 0.3807 - val_accuracy: 0.9333\n",
      "Epoch 25/100\n",
      "15/15 [==============================] - 8s 525ms/step - loss: 0.4076 - accuracy: 0.8646 - val_loss: 0.3635 - val_accuracy: 0.9333\n",
      "Epoch 26/100\n",
      "15/15 [==============================] - 8s 515ms/step - loss: 0.3883 - accuracy: 0.8687 - val_loss: 0.3487 - val_accuracy: 0.9333\n",
      "Epoch 27/100\n",
      "15/15 [==============================] - 8s 528ms/step - loss: 0.3914 - accuracy: 0.8833 - val_loss: 0.3347 - val_accuracy: 0.9333\n",
      "Epoch 28/100\n",
      "15/15 [==============================] - 13s 835ms/step - loss: 0.3641 - accuracy: 0.8979 - val_loss: 0.3264 - val_accuracy: 0.9333\n",
      "Epoch 29/100\n",
      "15/15 [==============================] - 14s 926ms/step - loss: 0.3589 - accuracy: 0.8938 - val_loss: 0.3187 - val_accuracy: 0.9333\n",
      "Epoch 30/100\n",
      "15/15 [==============================] - 16s 1s/step - loss: 0.3137 - accuracy: 0.8938 - val_loss: 0.3085 - val_accuracy: 0.9333\n",
      "Epoch 31/100\n",
      "15/15 [==============================] - 16s 1s/step - loss: 0.3459 - accuracy: 0.8958 - val_loss: 0.2934 - val_accuracy: 0.9333\n",
      "Epoch 32/100\n",
      "15/15 [==============================] - 16s 1s/step - loss: 0.3317 - accuracy: 0.9146 - val_loss: 0.2891 - val_accuracy: 0.9500\n",
      "Epoch 33/100\n",
      "15/15 [==============================] - 16s 1s/step - loss: 0.3063 - accuracy: 0.9125 - val_loss: 0.2802 - val_accuracy: 0.9500\n",
      "Epoch 34/100\n",
      "15/15 [==============================] - 16s 1s/step - loss: 0.3191 - accuracy: 0.9042 - val_loss: 0.2704 - val_accuracy: 0.9500\n",
      "Epoch 35/100\n",
      "15/15 [==============================] - 8s 521ms/step - loss: 0.2932 - accuracy: 0.9104 - val_loss: 0.2567 - val_accuracy: 0.9667\n",
      "Epoch 36/100\n",
      "15/15 [==============================] - 17s 1s/step - loss: 0.2659 - accuracy: 0.9208 - val_loss: 0.2525 - val_accuracy: 0.9667\n",
      "Epoch 37/100\n",
      "15/15 [==============================] - 14s 946ms/step - loss: 0.2630 - accuracy: 0.9375 - val_loss: 0.2505 - val_accuracy: 0.9667\n",
      "Epoch 38/100\n",
      "15/15 [==============================] - 16s 1s/step - loss: 0.2811 - accuracy: 0.9312 - val_loss: 0.2368 - val_accuracy: 0.9667\n",
      "Epoch 39/100\n",
      "15/15 [==============================] - 16s 1s/step - loss: 0.2638 - accuracy: 0.9271 - val_loss: 0.2382 - val_accuracy: 0.9667\n",
      "Epoch 40/100\n",
      "15/15 [==============================] - 17s 1s/step - loss: 0.2703 - accuracy: 0.9104 - val_loss: 0.2275 - val_accuracy: 0.9667\n",
      "Epoch 41/100\n",
      "15/15 [==============================] - 16s 1s/step - loss: 0.2626 - accuracy: 0.9354 - val_loss: 0.2209 - val_accuracy: 0.9667\n",
      "Epoch 42/100\n",
      "15/15 [==============================] - 18s 1s/step - loss: 0.2292 - accuracy: 0.9438 - val_loss: 0.2274 - val_accuracy: 0.9500\n",
      "Epoch 43/100\n",
      "15/15 [==============================] - 28s 2s/step - loss: 0.2474 - accuracy: 0.9312 - val_loss: 0.2303 - val_accuracy: 0.9500\n",
      "Epoch 44/100\n",
      "15/15 [==============================] - 31s 2s/step - loss: 0.2338 - accuracy: 0.9375 - val_loss: 0.2120 - val_accuracy: 0.9667\n",
      "Epoch 45/100\n",
      "15/15 [==============================] - 29s 2s/step - loss: 0.2322 - accuracy: 0.9312 - val_loss: 0.2058 - val_accuracy: 0.9667\n",
      "Epoch 46/100\n",
      "15/15 [==============================] - 16s 1s/step - loss: 0.2281 - accuracy: 0.9312 - val_loss: 0.2016 - val_accuracy: 0.9667\n",
      "Epoch 47/100\n",
      "15/15 [==============================] - 17s 1s/step - loss: 0.1871 - accuracy: 0.9646 - val_loss: 0.2031 - val_accuracy: 0.9667\n",
      "Epoch 48/100\n",
      "15/15 [==============================] - 17s 1s/step - loss: 0.2551 - accuracy: 0.9125 - val_loss: 0.1976 - val_accuracy: 0.9667\n",
      "Epoch 49/100\n",
      "15/15 [==============================] - 16s 1s/step - loss: 0.1927 - accuracy: 0.9479 - val_loss: 0.1954 - val_accuracy: 0.9667\n",
      "Epoch 50/100\n",
      "15/15 [==============================] - 18s 1s/step - loss: 0.2295 - accuracy: 0.9333 - val_loss: 0.1878 - val_accuracy: 0.9667\n",
      "Epoch 51/100\n",
      "15/15 [==============================] - 18s 1s/step - loss: 0.1865 - accuracy: 0.9479 - val_loss: 0.1882 - val_accuracy: 0.9667\n",
      "Epoch 52/100\n",
      "15/15 [==============================] - 18s 1s/step - loss: 0.2081 - accuracy: 0.9458 - val_loss: 0.1908 - val_accuracy: 0.9667\n",
      "Epoch 53/100\n",
      "15/15 [==============================] - 17s 1s/step - loss: 0.1700 - accuracy: 0.9604 - val_loss: 0.1857 - val_accuracy: 0.9667\n",
      "Epoch 54/100\n",
      "15/15 [==============================] - 18s 1s/step - loss: 0.1974 - accuracy: 0.9458 - val_loss: 0.1824 - val_accuracy: 0.9667\n",
      "Epoch 55/100\n",
      "15/15 [==============================] - 18s 1s/step - loss: 0.1939 - accuracy: 0.9563 - val_loss: 0.1818 - val_accuracy: 0.9500\n",
      "Epoch 56/100\n",
      "15/15 [==============================] - 19s 1s/step - loss: 0.1723 - accuracy: 0.9667 - val_loss: 0.1858 - val_accuracy: 0.9500\n",
      "Epoch 57/100\n",
      "15/15 [==============================] - 15s 1s/step - loss: 0.1686 - accuracy: 0.9604 - val_loss: 0.1849 - val_accuracy: 0.9500\n",
      "Epoch 58/100\n",
      "15/15 [==============================] - 19s 1s/step - loss: 0.1713 - accuracy: 0.9458 - val_loss: 0.1817 - val_accuracy: 0.9500\n",
      "Epoch 59/100\n",
      "15/15 [==============================] - 18s 1s/step - loss: 0.2007 - accuracy: 0.9500 - val_loss: 0.1736 - val_accuracy: 0.9500\n",
      "Epoch 60/100\n",
      "15/15 [==============================] - 18s 1s/step - loss: 0.1842 - accuracy: 0.9479 - val_loss: 0.1744 - val_accuracy: 0.9500\n",
      "Epoch 61/100\n",
      "15/15 [==============================] - 19s 1s/step - loss: 0.1645 - accuracy: 0.9521 - val_loss: 0.1714 - val_accuracy: 0.9500\n",
      "Epoch 62/100\n",
      "15/15 [==============================] - 23s 1s/step - loss: 0.1568 - accuracy: 0.9688 - val_loss: 0.1696 - val_accuracy: 0.9500\n",
      "Epoch 63/100\n",
      "15/15 [==============================] - 18s 1s/step - loss: 0.1735 - accuracy: 0.9458 - val_loss: 0.1617 - val_accuracy: 0.9667\n",
      "Epoch 64/100\n",
      "15/15 [==============================] - 20s 1s/step - loss: 0.1480 - accuracy: 0.9646 - val_loss: 0.1565 - val_accuracy: 0.9667\n",
      "Epoch 65/100\n",
      "15/15 [==============================] - 17s 1s/step - loss: 0.1464 - accuracy: 0.9625 - val_loss: 0.1639 - val_accuracy: 0.9500\n",
      "Epoch 66/100\n",
      "15/15 [==============================] - 13s 889ms/step - loss: 0.1687 - accuracy: 0.9458 - val_loss: 0.1716 - val_accuracy: 0.9500\n",
      "Epoch 67/100\n",
      "15/15 [==============================] - 15s 1s/step - loss: 0.1534 - accuracy: 0.9563 - val_loss: 0.1679 - val_accuracy: 0.9500\n",
      "Epoch 68/100\n",
      "15/15 [==============================] - 18s 1s/step - loss: 0.1574 - accuracy: 0.9583 - val_loss: 0.1657 - val_accuracy: 0.9500\n",
      "Epoch 69/100\n",
      "15/15 [==============================] - 14s 960ms/step - loss: 0.1640 - accuracy: 0.9458 - val_loss: 0.1562 - val_accuracy: 0.9500\n",
      "Epoch 70/100\n",
      "15/15 [==============================] - 16s 1s/step - loss: 0.1570 - accuracy: 0.9563 - val_loss: 0.1509 - val_accuracy: 0.9667\n",
      "Epoch 71/100\n",
      "15/15 [==============================] - 16s 1s/step - loss: 0.1463 - accuracy: 0.9583 - val_loss: 0.1435 - val_accuracy: 0.9667\n",
      "Epoch 72/100\n",
      "15/15 [==============================] - 16s 1s/step - loss: 0.1506 - accuracy: 0.9625 - val_loss: 0.1453 - val_accuracy: 0.9667\n",
      "Epoch 73/100\n",
      "15/15 [==============================] - 16s 1s/step - loss: 0.1467 - accuracy: 0.9458 - val_loss: 0.1485 - val_accuracy: 0.9500\n",
      "Epoch 74/100\n",
      "15/15 [==============================] - 16s 1s/step - loss: 0.1389 - accuracy: 0.9708 - val_loss: 0.1499 - val_accuracy: 0.9500\n",
      "Epoch 75/100\n",
      "15/15 [==============================] - 8s 516ms/step - loss: 0.1212 - accuracy: 0.9812 - val_loss: 0.1491 - val_accuracy: 0.9500\n",
      "Epoch 76/100\n",
      "15/15 [==============================] - 15s 1s/step - loss: 0.1515 - accuracy: 0.9583 - val_loss: 0.1480 - val_accuracy: 0.9500\n",
      "Epoch 77/100\n",
      "15/15 [==============================] - 16s 1s/step - loss: 0.1361 - accuracy: 0.9625 - val_loss: 0.1476 - val_accuracy: 0.9500\n",
      "Epoch 78/100\n",
      "15/15 [==============================] - 8s 532ms/step - loss: 0.1327 - accuracy: 0.9688 - val_loss: 0.1482 - val_accuracy: 0.9500\n",
      "Epoch 79/100\n",
      "15/15 [==============================] - 12s 811ms/step - loss: 0.1272 - accuracy: 0.9646 - val_loss: 0.1500 - val_accuracy: 0.9500\n",
      "Epoch 80/100\n",
      "15/15 [==============================] - 17s 1s/step - loss: 0.1416 - accuracy: 0.9583 - val_loss: 0.1483 - val_accuracy: 0.9500\n",
      "Epoch 81/100\n",
      "15/15 [==============================] - 24s 1s/step - loss: 0.1448 - accuracy: 0.9583 - val_loss: 0.1492 - val_accuracy: 0.9500\n",
      "Epoch 82/100\n",
      "15/15 [==============================] - 18s 1s/step - loss: 0.1151 - accuracy: 0.9771 - val_loss: 0.1483 - val_accuracy: 0.9500\n",
      "Epoch 83/100\n",
      "15/15 [==============================] - 14s 968ms/step - loss: 0.1273 - accuracy: 0.9625 - val_loss: 0.1410 - val_accuracy: 0.9500\n",
      "Epoch 84/100\n",
      "15/15 [==============================] - 17s 1s/step - loss: 0.1270 - accuracy: 0.9708 - val_loss: 0.1470 - val_accuracy: 0.9500\n",
      "Epoch 85/100\n",
      "15/15 [==============================] - 16s 1s/step - loss: 0.1353 - accuracy: 0.9729 - val_loss: 0.1403 - val_accuracy: 0.9500\n",
      "Epoch 86/100\n",
      "15/15 [==============================] - 14s 925ms/step - loss: 0.1333 - accuracy: 0.9688 - val_loss: 0.1387 - val_accuracy: 0.9500\n",
      "Epoch 87/100\n",
      "15/15 [==============================] - 16s 1s/step - loss: 0.1215 - accuracy: 0.9583 - val_loss: 0.1412 - val_accuracy: 0.9500\n",
      "Epoch 88/100\n",
      "15/15 [==============================] - 16s 1s/step - loss: 0.1105 - accuracy: 0.9729 - val_loss: 0.1411 - val_accuracy: 0.9500\n",
      "Epoch 89/100\n",
      "15/15 [==============================] - 16s 1s/step - loss: 0.1376 - accuracy: 0.9667 - val_loss: 0.1408 - val_accuracy: 0.9500\n",
      "Epoch 90/100\n",
      "15/15 [==============================] - 16s 1s/step - loss: 0.1236 - accuracy: 0.9625 - val_loss: 0.1435 - val_accuracy: 0.9500\n",
      "Epoch 91/100\n",
      "15/15 [==============================] - 16s 1s/step - loss: 0.1084 - accuracy: 0.9750 - val_loss: 0.1429 - val_accuracy: 0.9500\n",
      "Epoch 92/100\n",
      "15/15 [==============================] - 16s 1s/step - loss: 0.1198 - accuracy: 0.9667 - val_loss: 0.1362 - val_accuracy: 0.9500\n",
      "Epoch 93/100\n",
      "15/15 [==============================] - 16s 1s/step - loss: 0.1243 - accuracy: 0.9688 - val_loss: 0.1315 - val_accuracy: 0.9667\n",
      "Epoch 94/100\n",
      "15/15 [==============================] - 16s 1s/step - loss: 0.1063 - accuracy: 0.9708 - val_loss: 0.1340 - val_accuracy: 0.9500\n",
      "Epoch 95/100\n",
      "15/15 [==============================] - 16s 1s/step - loss: 0.0978 - accuracy: 0.9729 - val_loss: 0.1336 - val_accuracy: 0.9500\n",
      "Epoch 96/100\n",
      "15/15 [==============================] - 16s 1s/step - loss: 0.0999 - accuracy: 0.9750 - val_loss: 0.1350 - val_accuracy: 0.9500\n",
      "Epoch 97/100\n",
      "15/15 [==============================] - 8s 551ms/step - loss: 0.1046 - accuracy: 0.9667 - val_loss: 0.1340 - val_accuracy: 0.9500\n",
      "Epoch 98/100\n",
      "15/15 [==============================] - 17s 1s/step - loss: 0.0883 - accuracy: 0.9854 - val_loss: 0.1339 - val_accuracy: 0.9500\n",
      "Epoch 99/100\n",
      "15/15 [==============================] - 15s 979ms/step - loss: 0.1136 - accuracy: 0.9708 - val_loss: 0.1320 - val_accuracy: 0.9500\n",
      "Epoch 100/100\n",
      "15/15 [==============================] - 16s 1s/step - loss: 0.1119 - accuracy: 0.9646 - val_loss: 0.1353 - val_accuracy: 0.9500\n"
     ]
    }
   ],
   "source": [
    "history = model.fit(train_generator,\n",
    "                    epochs=100,\n",
    "                    validation_data=validation_generator)"
   ]
  },
  {
   "cell_type": "code",
   "execution_count": 20,
   "id": "9becf040-2796-4b11-b5b0-64b088de7a18",
   "metadata": {},
   "outputs": [
    {
     "data": {
      "image/png": "[encoded data removed]",
      "text/plain": [
       "<Figure size 640x480 with 1 Axes>"
      ]
     },
     "metadata": {},
     "output_type": "display_data"
    },
    {
     "data": {
      "image/png": "[encoded data removed]",
      "text/plain": [
       "<Figure size 640x480 with 1 Axes>"
      ]
     },
     "metadata": {},
     "output_type": "display_data"
    }
   ],
   "source": [
    "# Plot the chart for accuracy and loss on both training and validation\n",
    "acc = history.history['accuracy']\n",
    "val_acc = history.history['val_accuracy']\n",
    "loss = history.history['loss']\n",
    "val_loss = history.history['val_loss']\n",
    "\n",
    "epochs = range(len(acc))\n",
    "\n",
    "plt.plot(epochs, acc, 'r', label='Training accuracy')\n",
    "plt.plot(epochs, val_acc, 'b', label='Validation accuracy')\n",
    "plt.title('Training and validation accuracy')\n",
    "plt.legend()\n",
    "plt.figure()\n",
    "\n",
    "plt.plot(epochs, loss, 'r', label='Training Loss')\n",
    "plt.plot(epochs, val_loss, 'b', label='Validation Loss')\n",
    "plt.title('Training and validation loss')\n",
    "plt.legend()\n",
    "\n",
    "plt.show()"
   ]
  },
  {
   "cell_type": "code",
   "execution_count": 21,
   "id": "ad0290f0-6126-4905-bb13-75f1a6c71d66",
   "metadata": {},
   "outputs": [
    {
     "name": "stdout",
     "output_type": "stream",
     "text": [
      "Requirement already satisfied: h5py in /home/c013d4ky0525/project/volume/lib/python3.8/site-packages (3.11.0)\n",
      "Requirement already satisfied: numpy>=1.17.3 in /home/c013d4ky0525/project/volume/lib/python3.8/site-packages (from h5py) (1.24.3)\n"
     ]
    },
    {
     "name": "stderr",
     "output_type": "stream",
     "text": [
      "/home/c013d4ky0525/project/volume/lib/python3.8/site-packages/keras/src/engine/training.py:3000: UserWarning: You are saving your model as an HDF5 file via `model.save()`. This file format is considered legacy. We recommend using instead the native Keras format, e.g. `model.save('my_model.keras')`.\n",
      "  saving_api.save_model(\n"
     ]
    }
   ],
   "source": [
    "!pip install h5py\n",
    "import h5py\n",
    "\n",
    "# Saving the trained model as a Keras H5 file.\n",
    "saved_model_path = \"./model_products-1102.h5\"\n",
    "model.save(saved_model_path)"
   ]
  },
  {
   "cell_type": "code",
   "execution_count": 23,
   "id": "3c726111-3b56-46f9-a24d-8a86b7610f27",
   "metadata": {},
   "outputs": [],
   "source": [
    "# Loading the saved model\n",
    "loaded_model = tf.keras.models.load_model(\"./model_products-1102.h5\")"
   ]
  },
  {
   "cell_type": "code",
   "execution_count": 24,
   "id": "94b826c4-fe10-4548-862f-075125843ec0",
   "metadata": {},
   "outputs": [
    {
     "name": "stdout",
     "output_type": "stream",
     "text": [
      "2/2 [==============================] - 2s 321ms/step - loss: 2.6620 - accuracy: 0.1333\n",
      "test loss, test acc: [2.662003517150879, 0.13333334028720856]\n"
     ]
    }
   ],
   "source": [
    "# Evaluation\n",
    "results = loaded_model.evaluate(testing_generator, batch_size=32)\n",
    "print(\"test loss, test acc:\", results)"
   ]
  },
  {
   "cell_type": "code",
   "execution_count": 25,
   "id": "e768af2d-68d4-4387-a0cb-474b9b85008a",
   "metadata": {},
   "outputs": [],
   "source": [
    "import pickle\n",
    "\n",
    "# Saving the model as a binary file using pickle\n",
    "with open('model_products02.bin', 'wb') as f:\n",
    "    pickle.dump(model, f)\n"
   ]
  },
  {
   "cell_type": "code",
   "execution_count": null,
   "id": "0f8883db-7cd3-46b3-955a-200e5066e133",
   "metadata": {},
   "outputs": [],
   "source": []
  }
 ],
 "metadata": {
  "kernelspec": {
   "display_name": "Python 3 (ipykernel)",
   "language": "python",
   "name": "python3"
  },
  "language_info": {
   "codemirror_mode": {
    "name": "ipython",
    "version": 3
   },
   "file_extension": ".py",
   "mimetype": "text/x-python",
   "name": "python",
   "nbconvert_exporter": "python",
   "pygments_lexer": "ipython3",
   "version": "3.8.10"
  }
 },
 "nbformat": 4,
 "nbformat_minor": 5
}
